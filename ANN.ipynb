{
 "cells": [
  {
   "cell_type": "code",
   "execution_count": 1,
   "metadata": {},
   "outputs": [],
   "source": [
    "import numpy as np\n",
    "import pandas as pd\n",
    "import matplotlib.pyplot as plt\n",
    "import seaborn as sns\n",
    "%matplotlib inline"
   ]
  },
  {
   "cell_type": "code",
   "execution_count": 2,
   "metadata": {},
   "outputs": [
    {
     "name": "stderr",
     "output_type": "stream",
     "text": [
      "Using TensorFlow backend.\n"
     ]
    }
   ],
   "source": [
    "from keras.models import Sequential\n",
    "from keras.layers import Dense, LeakyReLU, ReLU, ELU\n",
    "from keras.optimizers import Adam"
   ]
  },
  {
   "cell_type": "code",
   "execution_count": 3,
   "metadata": {
    "scrolled": true
   },
   "outputs": [
    {
     "data": {
      "text/html": [
       "<div>\n",
       "<style scoped>\n",
       "    .dataframe tbody tr th:only-of-type {\n",
       "        vertical-align: middle;\n",
       "    }\n",
       "\n",
       "    .dataframe tbody tr th {\n",
       "        vertical-align: top;\n",
       "    }\n",
       "\n",
       "    .dataframe thead th {\n",
       "        text-align: right;\n",
       "    }\n",
       "</style>\n",
       "<table border=\"1\" class=\"dataframe\">\n",
       "  <thead>\n",
       "    <tr style=\"text-align: right;\">\n",
       "      <th></th>\n",
       "      <th>RowNumber</th>\n",
       "      <th>CustomerId</th>\n",
       "      <th>Surname</th>\n",
       "      <th>CreditScore</th>\n",
       "      <th>Geography</th>\n",
       "      <th>Gender</th>\n",
       "      <th>Age</th>\n",
       "      <th>Tenure</th>\n",
       "      <th>Balance</th>\n",
       "      <th>NumOfProducts</th>\n",
       "      <th>HasCrCard</th>\n",
       "      <th>IsActiveMember</th>\n",
       "      <th>EstimatedSalary</th>\n",
       "      <th>Exited</th>\n",
       "    </tr>\n",
       "  </thead>\n",
       "  <tbody>\n",
       "    <tr>\n",
       "      <th>0</th>\n",
       "      <td>1</td>\n",
       "      <td>15634602</td>\n",
       "      <td>Hargrave</td>\n",
       "      <td>619</td>\n",
       "      <td>France</td>\n",
       "      <td>Female</td>\n",
       "      <td>42</td>\n",
       "      <td>2</td>\n",
       "      <td>0.00</td>\n",
       "      <td>1</td>\n",
       "      <td>1</td>\n",
       "      <td>1</td>\n",
       "      <td>101348.88</td>\n",
       "      <td>1</td>\n",
       "    </tr>\n",
       "    <tr>\n",
       "      <th>1</th>\n",
       "      <td>2</td>\n",
       "      <td>15647311</td>\n",
       "      <td>Hill</td>\n",
       "      <td>608</td>\n",
       "      <td>Spain</td>\n",
       "      <td>Female</td>\n",
       "      <td>41</td>\n",
       "      <td>1</td>\n",
       "      <td>83807.86</td>\n",
       "      <td>1</td>\n",
       "      <td>0</td>\n",
       "      <td>1</td>\n",
       "      <td>112542.58</td>\n",
       "      <td>0</td>\n",
       "    </tr>\n",
       "    <tr>\n",
       "      <th>2</th>\n",
       "      <td>3</td>\n",
       "      <td>15619304</td>\n",
       "      <td>Onio</td>\n",
       "      <td>502</td>\n",
       "      <td>France</td>\n",
       "      <td>Female</td>\n",
       "      <td>42</td>\n",
       "      <td>8</td>\n",
       "      <td>159660.80</td>\n",
       "      <td>3</td>\n",
       "      <td>1</td>\n",
       "      <td>0</td>\n",
       "      <td>113931.57</td>\n",
       "      <td>1</td>\n",
       "    </tr>\n",
       "    <tr>\n",
       "      <th>3</th>\n",
       "      <td>4</td>\n",
       "      <td>15701354</td>\n",
       "      <td>Boni</td>\n",
       "      <td>699</td>\n",
       "      <td>France</td>\n",
       "      <td>Female</td>\n",
       "      <td>39</td>\n",
       "      <td>1</td>\n",
       "      <td>0.00</td>\n",
       "      <td>2</td>\n",
       "      <td>0</td>\n",
       "      <td>0</td>\n",
       "      <td>93826.63</td>\n",
       "      <td>0</td>\n",
       "    </tr>\n",
       "    <tr>\n",
       "      <th>4</th>\n",
       "      <td>5</td>\n",
       "      <td>15737888</td>\n",
       "      <td>Mitchell</td>\n",
       "      <td>850</td>\n",
       "      <td>Spain</td>\n",
       "      <td>Female</td>\n",
       "      <td>43</td>\n",
       "      <td>2</td>\n",
       "      <td>125510.82</td>\n",
       "      <td>1</td>\n",
       "      <td>1</td>\n",
       "      <td>1</td>\n",
       "      <td>79084.10</td>\n",
       "      <td>0</td>\n",
       "    </tr>\n",
       "  </tbody>\n",
       "</table>\n",
       "</div>"
      ],
      "text/plain": [
       "   RowNumber  CustomerId   Surname  CreditScore Geography  Gender  Age  \\\n",
       "0          1    15634602  Hargrave          619    France  Female   42   \n",
       "1          2    15647311      Hill          608     Spain  Female   41   \n",
       "2          3    15619304      Onio          502    France  Female   42   \n",
       "3          4    15701354      Boni          699    France  Female   39   \n",
       "4          5    15737888  Mitchell          850     Spain  Female   43   \n",
       "\n",
       "   Tenure    Balance  NumOfProducts  HasCrCard  IsActiveMember  \\\n",
       "0       2       0.00              1          1               1   \n",
       "1       1   83807.86              1          0               1   \n",
       "2       8  159660.80              3          1               0   \n",
       "3       1       0.00              2          0               0   \n",
       "4       2  125510.82              1          1               1   \n",
       "\n",
       "   EstimatedSalary  Exited  \n",
       "0        101348.88       1  \n",
       "1        112542.58       0  \n",
       "2        113931.57       1  \n",
       "3         93826.63       0  \n",
       "4         79084.10       0  "
      ]
     },
     "execution_count": 3,
     "metadata": {},
     "output_type": "execute_result"
    }
   ],
   "source": [
    "dataset = pd.read_csv(\"Churn_Modelling.csv\")\n",
    "dataset.head()"
   ]
  },
  {
   "cell_type": "code",
   "execution_count": 4,
   "metadata": {},
   "outputs": [],
   "source": [
    "X = dataset.iloc[:, 3: 13]\n",
    "y = dataset.iloc[:, -1]"
   ]
  },
  {
   "cell_type": "code",
   "execution_count": 5,
   "metadata": {},
   "outputs": [
    {
     "name": "stdout",
     "output_type": "stream",
     "text": [
      "0    1\n",
      "1    0\n",
      "2    1\n",
      "3    0\n",
      "4    0\n",
      "Name: Exited, dtype: int64\n"
     ]
    },
    {
     "data": {
      "text/html": [
       "<div>\n",
       "<style scoped>\n",
       "    .dataframe tbody tr th:only-of-type {\n",
       "        vertical-align: middle;\n",
       "    }\n",
       "\n",
       "    .dataframe tbody tr th {\n",
       "        vertical-align: top;\n",
       "    }\n",
       "\n",
       "    .dataframe thead th {\n",
       "        text-align: right;\n",
       "    }\n",
       "</style>\n",
       "<table border=\"1\" class=\"dataframe\">\n",
       "  <thead>\n",
       "    <tr style=\"text-align: right;\">\n",
       "      <th></th>\n",
       "      <th>CreditScore</th>\n",
       "      <th>Geography</th>\n",
       "      <th>Gender</th>\n",
       "      <th>Age</th>\n",
       "      <th>Tenure</th>\n",
       "      <th>Balance</th>\n",
       "      <th>NumOfProducts</th>\n",
       "      <th>HasCrCard</th>\n",
       "      <th>IsActiveMember</th>\n",
       "      <th>EstimatedSalary</th>\n",
       "    </tr>\n",
       "  </thead>\n",
       "  <tbody>\n",
       "    <tr>\n",
       "      <th>0</th>\n",
       "      <td>619</td>\n",
       "      <td>France</td>\n",
       "      <td>Female</td>\n",
       "      <td>42</td>\n",
       "      <td>2</td>\n",
       "      <td>0.00</td>\n",
       "      <td>1</td>\n",
       "      <td>1</td>\n",
       "      <td>1</td>\n",
       "      <td>101348.88</td>\n",
       "    </tr>\n",
       "    <tr>\n",
       "      <th>1</th>\n",
       "      <td>608</td>\n",
       "      <td>Spain</td>\n",
       "      <td>Female</td>\n",
       "      <td>41</td>\n",
       "      <td>1</td>\n",
       "      <td>83807.86</td>\n",
       "      <td>1</td>\n",
       "      <td>0</td>\n",
       "      <td>1</td>\n",
       "      <td>112542.58</td>\n",
       "    </tr>\n",
       "    <tr>\n",
       "      <th>2</th>\n",
       "      <td>502</td>\n",
       "      <td>France</td>\n",
       "      <td>Female</td>\n",
       "      <td>42</td>\n",
       "      <td>8</td>\n",
       "      <td>159660.80</td>\n",
       "      <td>3</td>\n",
       "      <td>1</td>\n",
       "      <td>0</td>\n",
       "      <td>113931.57</td>\n",
       "    </tr>\n",
       "    <tr>\n",
       "      <th>3</th>\n",
       "      <td>699</td>\n",
       "      <td>France</td>\n",
       "      <td>Female</td>\n",
       "      <td>39</td>\n",
       "      <td>1</td>\n",
       "      <td>0.00</td>\n",
       "      <td>2</td>\n",
       "      <td>0</td>\n",
       "      <td>0</td>\n",
       "      <td>93826.63</td>\n",
       "    </tr>\n",
       "    <tr>\n",
       "      <th>4</th>\n",
       "      <td>850</td>\n",
       "      <td>Spain</td>\n",
       "      <td>Female</td>\n",
       "      <td>43</td>\n",
       "      <td>2</td>\n",
       "      <td>125510.82</td>\n",
       "      <td>1</td>\n",
       "      <td>1</td>\n",
       "      <td>1</td>\n",
       "      <td>79084.10</td>\n",
       "    </tr>\n",
       "  </tbody>\n",
       "</table>\n",
       "</div>"
      ],
      "text/plain": [
       "   CreditScore Geography  Gender  Age  Tenure    Balance  NumOfProducts  \\\n",
       "0          619    France  Female   42       2       0.00              1   \n",
       "1          608     Spain  Female   41       1   83807.86              1   \n",
       "2          502    France  Female   42       8  159660.80              3   \n",
       "3          699    France  Female   39       1       0.00              2   \n",
       "4          850     Spain  Female   43       2  125510.82              1   \n",
       "\n",
       "   HasCrCard  IsActiveMember  EstimatedSalary  \n",
       "0          1               1        101348.88  \n",
       "1          0               1        112542.58  \n",
       "2          1               0        113931.57  \n",
       "3          0               0         93826.63  \n",
       "4          1               1         79084.10  "
      ]
     },
     "execution_count": 5,
     "metadata": {},
     "output_type": "execute_result"
    }
   ],
   "source": [
    "print(y.head())\n",
    "X.head()"
   ]
  },
  {
   "cell_type": "code",
   "execution_count": 6,
   "metadata": {},
   "outputs": [],
   "source": [
    "from sklearn.preprocessing import LabelEncoder, OneHotEncoder\n",
    "labelEncoderX1 = LabelEncoder()\n",
    "X.iloc[:, 1] = labelEncoderX1.fit_transform(X.iloc[:, 1])\n",
    "labelEncoderX2 = LabelEncoder()\n",
    "X.iloc[:, 2] = labelEncoderX2.fit_transform(X.iloc[:, 2])"
   ]
  },
  {
   "cell_type": "code",
   "execution_count": 7,
   "metadata": {},
   "outputs": [
    {
     "data": {
      "text/html": [
       "<div>\n",
       "<style scoped>\n",
       "    .dataframe tbody tr th:only-of-type {\n",
       "        vertical-align: middle;\n",
       "    }\n",
       "\n",
       "    .dataframe tbody tr th {\n",
       "        vertical-align: top;\n",
       "    }\n",
       "\n",
       "    .dataframe thead th {\n",
       "        text-align: right;\n",
       "    }\n",
       "</style>\n",
       "<table border=\"1\" class=\"dataframe\">\n",
       "  <thead>\n",
       "    <tr style=\"text-align: right;\">\n",
       "      <th></th>\n",
       "      <th>CreditScore</th>\n",
       "      <th>Geography</th>\n",
       "      <th>Gender</th>\n",
       "      <th>Age</th>\n",
       "      <th>Tenure</th>\n",
       "      <th>Balance</th>\n",
       "      <th>NumOfProducts</th>\n",
       "      <th>HasCrCard</th>\n",
       "      <th>IsActiveMember</th>\n",
       "      <th>EstimatedSalary</th>\n",
       "    </tr>\n",
       "  </thead>\n",
       "  <tbody>\n",
       "    <tr>\n",
       "      <th>0</th>\n",
       "      <td>619</td>\n",
       "      <td>0</td>\n",
       "      <td>0</td>\n",
       "      <td>42</td>\n",
       "      <td>2</td>\n",
       "      <td>0.00</td>\n",
       "      <td>1</td>\n",
       "      <td>1</td>\n",
       "      <td>1</td>\n",
       "      <td>101348.88</td>\n",
       "    </tr>\n",
       "    <tr>\n",
       "      <th>1</th>\n",
       "      <td>608</td>\n",
       "      <td>2</td>\n",
       "      <td>0</td>\n",
       "      <td>41</td>\n",
       "      <td>1</td>\n",
       "      <td>83807.86</td>\n",
       "      <td>1</td>\n",
       "      <td>0</td>\n",
       "      <td>1</td>\n",
       "      <td>112542.58</td>\n",
       "    </tr>\n",
       "    <tr>\n",
       "      <th>2</th>\n",
       "      <td>502</td>\n",
       "      <td>0</td>\n",
       "      <td>0</td>\n",
       "      <td>42</td>\n",
       "      <td>8</td>\n",
       "      <td>159660.80</td>\n",
       "      <td>3</td>\n",
       "      <td>1</td>\n",
       "      <td>0</td>\n",
       "      <td>113931.57</td>\n",
       "    </tr>\n",
       "    <tr>\n",
       "      <th>3</th>\n",
       "      <td>699</td>\n",
       "      <td>0</td>\n",
       "      <td>0</td>\n",
       "      <td>39</td>\n",
       "      <td>1</td>\n",
       "      <td>0.00</td>\n",
       "      <td>2</td>\n",
       "      <td>0</td>\n",
       "      <td>0</td>\n",
       "      <td>93826.63</td>\n",
       "    </tr>\n",
       "    <tr>\n",
       "      <th>4</th>\n",
       "      <td>850</td>\n",
       "      <td>2</td>\n",
       "      <td>0</td>\n",
       "      <td>43</td>\n",
       "      <td>2</td>\n",
       "      <td>125510.82</td>\n",
       "      <td>1</td>\n",
       "      <td>1</td>\n",
       "      <td>1</td>\n",
       "      <td>79084.10</td>\n",
       "    </tr>\n",
       "  </tbody>\n",
       "</table>\n",
       "</div>"
      ],
      "text/plain": [
       "   CreditScore  Geography  Gender  Age  Tenure    Balance  NumOfProducts  \\\n",
       "0          619          0       0   42       2       0.00              1   \n",
       "1          608          2       0   41       1   83807.86              1   \n",
       "2          502          0       0   42       8  159660.80              3   \n",
       "3          699          0       0   39       1       0.00              2   \n",
       "4          850          2       0   43       2  125510.82              1   \n",
       "\n",
       "   HasCrCard  IsActiveMember  EstimatedSalary  \n",
       "0          1               1        101348.88  \n",
       "1          0               1        112542.58  \n",
       "2          1               0        113931.57  \n",
       "3          0               0         93826.63  \n",
       "4          1               1         79084.10  "
      ]
     },
     "execution_count": 7,
     "metadata": {},
     "output_type": "execute_result"
    }
   ],
   "source": [
    "X.head()"
   ]
  },
  {
   "cell_type": "code",
   "execution_count": 8,
   "metadata": {},
   "outputs": [
    {
     "name": "stderr",
     "output_type": "stream",
     "text": [
      "/home/rahul/anaconda3/lib/python3.7/site-packages/sklearn/preprocessing/_encoders.py:368: FutureWarning: The handling of integer data will change in version 0.22. Currently, the categories are determined based on the range [0, max(values)], while in the future they will be determined based on the unique values.\n",
      "If you want the future behaviour and silence this warning, you can specify \"categories='auto'\".\n",
      "In case you used a LabelEncoder before this OneHotEncoder to convert the categories to integers, then you can now use the OneHotEncoder directly.\n",
      "  warnings.warn(msg, FutureWarning)\n",
      "/home/rahul/anaconda3/lib/python3.7/site-packages/sklearn/preprocessing/_encoders.py:390: DeprecationWarning: The 'categorical_features' keyword is deprecated in version 0.20 and will be removed in 0.22. You can use the ColumnTransformer instead.\n",
      "  \"use the ColumnTransformer instead.\", DeprecationWarning)\n"
     ]
    }
   ],
   "source": [
    "oneHotEncoder = OneHotEncoder(categorical_features = [1])\n",
    "X = oneHotEncoder.fit_transform(X).toarray()"
   ]
  },
  {
   "cell_type": "code",
   "execution_count": 9,
   "metadata": {},
   "outputs": [],
   "source": [
    "X =  X[:, 1:]"
   ]
  },
  {
   "cell_type": "code",
   "execution_count": 10,
   "metadata": {},
   "outputs": [],
   "source": []
  },
  {
   "cell_type": "code",
   "execution_count": 10,
   "metadata": {},
   "outputs": [
    {
     "name": "stdout",
     "output_type": "stream",
     "text": [
      "WARNING:tensorflow:From /home/rahul/anaconda3/lib/python3.7/site-packages/tensorflow/python/framework/op_def_library.py:263: colocate_with (from tensorflow.python.framework.ops) is deprecated and will be removed in a future version.\n",
      "Instructions for updating:\n",
      "Colocations handled automatically by placer.\n"
     ]
    }
   ],
   "source": [
    "# Define the model\n",
    "model = Sequential()\n",
    "\n",
    "# Input Layer\n",
    "model.add(Dense(units=6, kernel_initializer='uniform', input_dim = 11))\n",
    "model.add(LeakyReLU())\n",
    "\n",
    "# Hidden Layer\n",
    "model.add(Dense(units=6, kernel_initializer='uniform'))\n",
    "model.add(LeakyReLU())\n",
    "model.add(Dense(units=6, kernel_initializer='uniform'))\n",
    "model.add(LeakyReLU())\n",
    "model.add(Dense(units=6, kernel_initializer='uniform'))\n",
    "model.add(LeakyReLU())\n",
    "\n",
    "# Output Layer\n",
    "model.add(Dense(units=1, kernel_initializer='uniform', activation='sigmoid'))"
   ]
  },
  {
   "cell_type": "code",
   "execution_count": null,
   "metadata": {},
   "outputs": [],
   "source": []
  },
  {
   "cell_type": "code",
   "execution_count": 11,
   "metadata": {},
   "outputs": [],
   "source": [
    "# Compile the model\n",
    "model.compile(optimizer='adam', loss='binary_crossentropy', metrics=['accuracy'])"
   ]
  },
  {
   "cell_type": "code",
   "execution_count": 12,
   "metadata": {},
   "outputs": [],
   "source": [
    "# SDplitting into train and test sets\n",
    "from sklearn.model_selection import train_test_split\n",
    "X_train, X_test, y_train, y_test = train_test_split(X, y, test_size = 0.2, random_state = 0)"
   ]
  },
  {
   "cell_type": "code",
   "execution_count": 13,
   "metadata": {},
   "outputs": [],
   "source": [
    "# Standard Scaling\n",
    "from sklearn.preprocessing import StandardScaler\n",
    "sc = StandardScaler()\n",
    "X_train = sc.fit_transform(X_train)\n",
    "X_test = sc.fit_transform(X_test)"
   ]
  },
  {
   "cell_type": "code",
   "execution_count": 14,
   "metadata": {},
   "outputs": [
    {
     "name": "stdout",
     "output_type": "stream",
     "text": [
      "X_train:  [[-0.5698444   1.74309049  0.16958176 ...  0.64259497 -1.03227043\n",
      "   1.10643166]\n",
      " [ 1.75486502 -0.57369368 -2.30455945 ...  0.64259497  0.9687384\n",
      "  -0.74866447]\n",
      " [-0.5698444  -0.57369368 -1.19119591 ...  0.64259497 -1.03227043\n",
      "   1.48533467]\n",
      " ...\n",
      " [-0.5698444  -0.57369368  0.9015152  ...  0.64259497 -1.03227043\n",
      "   1.41231994]\n",
      " [-0.5698444   1.74309049 -0.62420521 ...  0.64259497  0.9687384\n",
      "   0.84432121]\n",
      " [ 1.75486502 -0.57369368 -0.28401079 ...  0.64259497 -1.03227043\n",
      "   0.32472465]]\n",
      "\n",
      "\n",
      "X_test:  [[ 1.62776996 -0.57427105 -0.56129438 ...  0.66011376  0.97628121\n",
      "   1.62185911]\n",
      " [-0.61433742 -0.57427105 -1.33847768 ...  0.66011376 -1.02429504\n",
      "   0.504204  ]\n",
      " [-0.61433742  1.74133801  0.58347561 ...  0.66011376  0.97628121\n",
      "  -0.41865644]\n",
      " ...\n",
      " [-0.61433742  1.74133801 -0.76084144 ...  0.66011376 -1.02429504\n",
      "   0.72775202]\n",
      " [ 1.62776996 -0.57427105 -0.0046631  ...  0.66011376  0.97628121\n",
      "  -1.54162886]\n",
      " [ 1.62776996 -0.57427105 -0.81335383 ...  0.66011376 -1.02429504\n",
      "   1.62356528]]\n"
     ]
    }
   ],
   "source": [
    "print('X_train: ', X_train)\n",
    "print()\n",
    "print()\n",
    "print('X_test: ', X_test)"
   ]
  },
  {
   "cell_type": "code",
   "execution_count": 15,
   "metadata": {
    "scrolled": true
   },
   "outputs": [
    {
     "name": "stdout",
     "output_type": "stream",
     "text": [
      "Epoch 1/100\n",
      "8000/8000 [==============================] - 2s 233us/step - loss: 0.5716 - acc: 0.7944\n",
      "Epoch 2/100\n",
      "8000/8000 [==============================] - 0s 30us/step - loss: 0.4295 - acc: 0.8110\n",
      "Epoch 3/100\n",
      "8000/8000 [==============================] - 0s 30us/step - loss: 0.4238 - acc: 0.8168\n",
      "Epoch 4/100\n",
      "8000/8000 [==============================] - 0s 30us/step - loss: 0.4200 - acc: 0.8185\n",
      "Epoch 5/100\n",
      "8000/8000 [==============================] - 0s 32us/step - loss: 0.4168 - acc: 0.8255\n",
      "Epoch 6/100\n",
      "8000/8000 [==============================] - 0s 31us/step - loss: 0.4139 - acc: 0.8286\n",
      "Epoch 7/100\n",
      "8000/8000 [==============================] - 0s 31us/step - loss: 0.4122 - acc: 0.8315\n",
      "Epoch 8/100\n",
      "8000/8000 [==============================] - 0s 30us/step - loss: 0.4102 - acc: 0.8322\n",
      "Epoch 9/100\n",
      "8000/8000 [==============================] - 0s 31us/step - loss: 0.4097 - acc: 0.8324\n",
      "Epoch 10/100\n",
      "8000/8000 [==============================] - 0s 30us/step - loss: 0.4087 - acc: 0.8337\n",
      "Epoch 11/100\n",
      "8000/8000 [==============================] - 0s 33us/step - loss: 0.4084 - acc: 0.8345\n",
      "Epoch 12/100\n",
      "8000/8000 [==============================] - 0s 33us/step - loss: 0.4080 - acc: 0.8339\n",
      "Epoch 13/100\n",
      "8000/8000 [==============================] - 0s 38us/step - loss: 0.4078 - acc: 0.8342\n",
      "Epoch 14/100\n",
      "8000/8000 [==============================] - 0s 41us/step - loss: 0.4072 - acc: 0.8329\n",
      "Epoch 15/100\n",
      "8000/8000 [==============================] - 0s 41us/step - loss: 0.4065 - acc: 0.8359\n",
      "Epoch 16/100\n",
      "8000/8000 [==============================] - 0s 41us/step - loss: 0.4067 - acc: 0.8357\n",
      "Epoch 17/100\n",
      "8000/8000 [==============================] - 0s 42us/step - loss: 0.4064 - acc: 0.8359\n",
      "Epoch 18/100\n",
      "8000/8000 [==============================] - 0s 33us/step - loss: 0.4063 - acc: 0.8356\n",
      "Epoch 19/100\n",
      "8000/8000 [==============================] - 0s 50us/step - loss: 0.4064 - acc: 0.8351\n",
      "Epoch 20/100\n",
      "8000/8000 [==============================] - 0s 46us/step - loss: 0.4064 - acc: 0.8342\n",
      "Epoch 21/100\n",
      "8000/8000 [==============================] - 0s 38us/step - loss: 0.4058 - acc: 0.8351\n",
      "Epoch 22/100\n",
      "8000/8000 [==============================] - 0s 45us/step - loss: 0.4058 - acc: 0.8351\n",
      "Epoch 23/100\n",
      "8000/8000 [==============================] - 0s 42us/step - loss: 0.4051 - acc: 0.8361\n",
      "Epoch 24/100\n",
      "8000/8000 [==============================] - 0s 42us/step - loss: 0.4053 - acc: 0.8355\n",
      "Epoch 25/100\n",
      "8000/8000 [==============================] - 0s 43us/step - loss: 0.4051 - acc: 0.8364\n",
      "Epoch 26/100\n",
      "8000/8000 [==============================] - 0s 43us/step - loss: 0.4050 - acc: 0.8354\n",
      "Epoch 27/100\n",
      "8000/8000 [==============================] - 0s 45us/step - loss: 0.4048 - acc: 0.8360\n",
      "Epoch 28/100\n",
      "8000/8000 [==============================] - 0s 44us/step - loss: 0.4045 - acc: 0.8344\n",
      "Epoch 29/100\n",
      "8000/8000 [==============================] - 0s 44us/step - loss: 0.4049 - acc: 0.8360\n",
      "Epoch 30/100\n",
      "8000/8000 [==============================] - 0s 35us/step - loss: 0.4049 - acc: 0.8346\n",
      "Epoch 31/100\n",
      "8000/8000 [==============================] - 0s 46us/step - loss: 0.4044 - acc: 0.8353\n",
      "Epoch 32/100\n",
      "8000/8000 [==============================] - 0s 53us/step - loss: 0.4035 - acc: 0.8364\n",
      "Epoch 33/100\n",
      "8000/8000 [==============================] - 0s 48us/step - loss: 0.4041 - acc: 0.8346\n",
      "Epoch 34/100\n",
      "8000/8000 [==============================] - 0s 32us/step - loss: 0.4044 - acc: 0.8341\n",
      "Epoch 35/100\n",
      "8000/8000 [==============================] - 0s 31us/step - loss: 0.4041 - acc: 0.8348\n",
      "Epoch 36/100\n",
      "8000/8000 [==============================] - 0s 34us/step - loss: 0.4043 - acc: 0.8346\n",
      "Epoch 37/100\n",
      "8000/8000 [==============================] - 0s 43us/step - loss: 0.4036 - acc: 0.8344\n",
      "Epoch 38/100\n",
      "8000/8000 [==============================] - 0s 36us/step - loss: 0.4042 - acc: 0.8351\n",
      "Epoch 39/100\n",
      "8000/8000 [==============================] - 0s 35us/step - loss: 0.4037 - acc: 0.8363\n",
      "Epoch 40/100\n",
      "8000/8000 [==============================] - 0s 42us/step - loss: 0.4037 - acc: 0.8353\n",
      "Epoch 41/100\n",
      "8000/8000 [==============================] - 0s 34us/step - loss: 0.4036 - acc: 0.8350\n",
      "Epoch 42/100\n",
      "8000/8000 [==============================] - 0s 46us/step - loss: 0.4035 - acc: 0.8355\n",
      "Epoch 43/100\n",
      "8000/8000 [==============================] - 0s 40us/step - loss: 0.4032 - acc: 0.8353\n",
      "Epoch 44/100\n",
      "8000/8000 [==============================] - 0s 38us/step - loss: 0.4034 - acc: 0.8345\n",
      "Epoch 45/100\n",
      "8000/8000 [==============================] - 0s 47us/step - loss: 0.4029 - acc: 0.8355\n",
      "Epoch 46/100\n",
      "8000/8000 [==============================] - 0s 40us/step - loss: 0.4031 - acc: 0.8340\n",
      "Epoch 47/100\n",
      "8000/8000 [==============================] - 0s 36us/step - loss: 0.4032 - acc: 0.8355\n",
      "Epoch 48/100\n",
      "8000/8000 [==============================] - 0s 46us/step - loss: 0.4026 - acc: 0.8359\n",
      "Epoch 49/100\n",
      "8000/8000 [==============================] - 0s 43us/step - loss: 0.4028 - acc: 0.8356\n",
      "Epoch 50/100\n",
      "8000/8000 [==============================] - 0s 33us/step - loss: 0.4028 - acc: 0.8349\n",
      "Epoch 51/100\n",
      "8000/8000 [==============================] - 0s 44us/step - loss: 0.4020 - acc: 0.8366\n",
      "Epoch 52/100\n",
      "8000/8000 [==============================] - 0s 33us/step - loss: 0.4021 - acc: 0.8356\n",
      "Epoch 53/100\n",
      "8000/8000 [==============================] - 0s 33us/step - loss: 0.4030 - acc: 0.8350\n",
      "Epoch 54/100\n",
      "8000/8000 [==============================] - 0s 33us/step - loss: 0.4025 - acc: 0.8354\n",
      "Epoch 55/100\n",
      "8000/8000 [==============================] - 0s 35us/step - loss: 0.4023 - acc: 0.8357\n",
      "Epoch 56/100\n",
      "8000/8000 [==============================] - 0s 33us/step - loss: 0.4020 - acc: 0.8353\n",
      "Epoch 57/100\n",
      "8000/8000 [==============================] - 0s 34us/step - loss: 0.4025 - acc: 0.8356\n",
      "Epoch 58/100\n",
      "8000/8000 [==============================] - 0s 33us/step - loss: 0.4021 - acc: 0.8361\n",
      "Epoch 59/100\n",
      "8000/8000 [==============================] - 0s 33us/step - loss: 0.4020 - acc: 0.8374\n",
      "Epoch 60/100\n",
      "8000/8000 [==============================] - 0s 33us/step - loss: 0.4024 - acc: 0.8355\n",
      "Epoch 61/100\n",
      "8000/8000 [==============================] - 0s 33us/step - loss: 0.4016 - acc: 0.8370\n",
      "Epoch 62/100\n",
      "8000/8000 [==============================] - 0s 41us/step - loss: 0.4020 - acc: 0.8357\n",
      "Epoch 63/100\n",
      "8000/8000 [==============================] - 0s 43us/step - loss: 0.4019 - acc: 0.8361\n",
      "Epoch 64/100\n",
      "8000/8000 [==============================] - 0s 47us/step - loss: 0.4022 - acc: 0.8353\n",
      "Epoch 65/100\n",
      "8000/8000 [==============================] - 0s 50us/step - loss: 0.4018 - acc: 0.8356\n",
      "Epoch 66/100\n",
      "8000/8000 [==============================] - 0s 45us/step - loss: 0.4016 - acc: 0.8356\n",
      "Epoch 67/100\n",
      "8000/8000 [==============================] - 0s 35us/step - loss: 0.4015 - acc: 0.8349\n",
      "Epoch 68/100\n",
      "8000/8000 [==============================] - 0s 40us/step - loss: 0.4015 - acc: 0.8353\n",
      "Epoch 69/100\n",
      "8000/8000 [==============================] - 0s 35us/step - loss: 0.4017 - acc: 0.8361\n",
      "Epoch 70/100\n",
      "8000/8000 [==============================] - 0s 33us/step - loss: 0.4015 - acc: 0.8355\n",
      "Epoch 71/100\n",
      "8000/8000 [==============================] - 0s 34us/step - loss: 0.4016 - acc: 0.8354\n",
      "Epoch 72/100\n",
      "8000/8000 [==============================] - 0s 34us/step - loss: 0.4011 - acc: 0.8364\n",
      "Epoch 73/100\n",
      "8000/8000 [==============================] - 0s 33us/step - loss: 0.4013 - acc: 0.8345\n",
      "Epoch 74/100\n",
      "8000/8000 [==============================] - 0s 34us/step - loss: 0.4012 - acc: 0.8357\n",
      "Epoch 75/100\n",
      "8000/8000 [==============================] - 0s 33us/step - loss: 0.4010 - acc: 0.8360\n",
      "Epoch 76/100\n",
      "8000/8000 [==============================] - 0s 34us/step - loss: 0.4011 - acc: 0.8349\n",
      "Epoch 77/100\n",
      "8000/8000 [==============================] - 0s 33us/step - loss: 0.4007 - acc: 0.8371\n",
      "Epoch 78/100\n",
      "8000/8000 [==============================] - 0s 33us/step - loss: 0.4008 - acc: 0.8361\n",
      "Epoch 79/100\n",
      "8000/8000 [==============================] - 0s 35us/step - loss: 0.4009 - acc: 0.8360\n",
      "Epoch 80/100\n",
      "8000/8000 [==============================] - 0s 34us/step - loss: 0.4007 - acc: 0.8357\n",
      "Epoch 81/100\n",
      "8000/8000 [==============================] - 0s 33us/step - loss: 0.4003 - acc: 0.8371\n",
      "Epoch 82/100\n",
      "8000/8000 [==============================] - 0s 35us/step - loss: 0.4007 - acc: 0.8356\n",
      "Epoch 83/100\n"
     ]
    },
    {
     "name": "stdout",
     "output_type": "stream",
     "text": [
      "8000/8000 [==============================] - 0s 31us/step - loss: 0.4004 - acc: 0.8360\n",
      "Epoch 84/100\n",
      "8000/8000 [==============================] - 0s 28us/step - loss: 0.4001 - acc: 0.8363\n",
      "Epoch 85/100\n",
      "8000/8000 [==============================] - 0s 29us/step - loss: 0.4003 - acc: 0.8363\n",
      "Epoch 86/100\n",
      "8000/8000 [==============================] - 0s 30us/step - loss: 0.3999 - acc: 0.8361\n",
      "Epoch 87/100\n",
      "8000/8000 [==============================] - 0s 29us/step - loss: 0.3998 - acc: 0.8373\n",
      "Epoch 88/100\n",
      "8000/8000 [==============================] - 0s 29us/step - loss: 0.3994 - acc: 0.8363\n",
      "Epoch 89/100\n",
      "8000/8000 [==============================] - 0s 29us/step - loss: 0.3991 - acc: 0.8373\n",
      "Epoch 90/100\n",
      "8000/8000 [==============================] - 0s 29us/step - loss: 0.3995 - acc: 0.8360\n",
      "Epoch 91/100\n",
      "8000/8000 [==============================] - 0s 29us/step - loss: 0.3988 - acc: 0.8370\n",
      "Epoch 92/100\n",
      "8000/8000 [==============================] - 0s 29us/step - loss: 0.3991 - acc: 0.8367\n",
      "Epoch 93/100\n",
      "8000/8000 [==============================] - 0s 29us/step - loss: 0.3984 - acc: 0.8386\n",
      "Epoch 94/100\n",
      "8000/8000 [==============================] - 0s 31us/step - loss: 0.3986 - acc: 0.8375\n",
      "Epoch 95/100\n",
      "8000/8000 [==============================] - 0s 30us/step - loss: 0.3981 - acc: 0.8370\n",
      "Epoch 96/100\n",
      "8000/8000 [==============================] - 0s 30us/step - loss: 0.3981 - acc: 0.8394\n",
      "Epoch 97/100\n",
      "8000/8000 [==============================] - 0s 30us/step - loss: 0.3978 - acc: 0.8385\n",
      "Epoch 98/100\n",
      "8000/8000 [==============================] - 0s 28us/step - loss: 0.3979 - acc: 0.8361\n",
      "Epoch 99/100\n",
      "8000/8000 [==============================] - 0s 30us/step - loss: 0.3974 - acc: 0.8371\n",
      "Epoch 100/100\n",
      "8000/8000 [==============================] - 0s 29us/step - loss: 0.3977 - acc: 0.8367\n"
     ]
    },
    {
     "data": {
      "text/plain": [
       "<keras.callbacks.History at 0x7f52befe77f0>"
      ]
     },
     "execution_count": 15,
     "metadata": {},
     "output_type": "execute_result"
    }
   ],
   "source": [
    "# Train the model\n",
    "model.fit(X_train, y_train, batch_size=32, epochs=100)"
   ]
  },
  {
   "cell_type": "code",
   "execution_count": 16,
   "metadata": {},
   "outputs": [],
   "source": [
    "# Prfedicting on the test set\n",
    "y_pred = model.predict(X_test)\n",
    "y_pred = y_pred > 0.5"
   ]
  },
  {
   "cell_type": "code",
   "execution_count": 17,
   "metadata": {},
   "outputs": [
    {
     "data": {
      "text/plain": [
       "array([[False],\n",
       "       [False],\n",
       "       [False],\n",
       "       ...,\n",
       "       [False],\n",
       "       [False],\n",
       "       [False]])"
      ]
     },
     "execution_count": 17,
     "metadata": {},
     "output_type": "execute_result"
    }
   ],
   "source": [
    "y_pred"
   ]
  },
  {
   "cell_type": "code",
   "execution_count": 19,
   "metadata": {},
   "outputs": [],
   "source": [
    "#  Confusion matrix \n",
    "from sklearn.metrics import confusion_matrix\n",
    "cm = confusion_matrix(y_test, y_pred)"
   ]
  },
  {
   "cell_type": "code",
   "execution_count": 20,
   "metadata": {},
   "outputs": [
    {
     "data": {
      "text/plain": [
       "array([[1548,   47],\n",
       "       [ 267,  138]])"
      ]
     },
     "execution_count": 20,
     "metadata": {},
     "output_type": "execute_result"
    }
   ],
   "source": [
    "cm"
   ]
  },
  {
   "cell_type": "code",
   "execution_count": null,
   "metadata": {},
   "outputs": [],
   "source": []
  },
  {
   "cell_type": "code",
   "execution_count": null,
   "metadata": {},
   "outputs": [],
   "source": []
  },
  {
   "cell_type": "code",
   "execution_count": null,
   "metadata": {},
   "outputs": [],
   "source": []
  },
  {
   "cell_type": "code",
   "execution_count": 22,
   "metadata": {},
   "outputs": [
    {
     "data": {
      "text/plain": [
       "319"
      ]
     },
     "execution_count": 22,
     "metadata": {},
     "output_type": "execute_result"
    }
   ],
   "source": [
    "253 + 66 "
   ]
  },
  {
   "cell_type": "code",
   "execution_count": 23,
   "metadata": {},
   "outputs": [
    {
     "data": {
      "text/plain": [
       "283"
      ]
     },
     "execution_count": 23,
     "metadata": {},
     "output_type": "execute_result"
    }
   ],
   "source": [
    "192 + 91 "
   ]
  },
  {
   "cell_type": "code",
   "execution_count": 24,
   "metadata": {},
   "outputs": [
    {
     "data": {
      "text/plain": [
       "294"
      ]
     },
     "execution_count": 24,
     "metadata": {},
     "output_type": "execute_result"
    }
   ],
   "source": [
    "228 + 66 "
   ]
  },
  {
   "cell_type": "code",
   "execution_count": 25,
   "metadata": {},
   "outputs": [
    {
     "data": {
      "text/plain": [
       "303"
      ]
     },
     "execution_count": 25,
     "metadata": {},
     "output_type": "execute_result"
    }
   ],
   "source": [
    "248 + 55 "
   ]
  },
  {
   "cell_type": "code",
   "execution_count": 21,
   "metadata": {},
   "outputs": [
    {
     "data": {
      "text/plain": [
       "314"
      ]
     },
     "execution_count": 21,
     "metadata": {},
     "output_type": "execute_result"
    }
   ],
   "source": [
    "267 + 47"
   ]
  },
  {
   "cell_type": "code",
   "execution_count": null,
   "metadata": {},
   "outputs": [],
   "source": []
  }
 ],
 "metadata": {
  "kernelspec": {
   "display_name": "Python 3",
   "language": "python",
   "name": "python3"
  },
  "language_info": {
   "codemirror_mode": {
    "name": "ipython",
    "version": 3
   },
   "file_extension": ".py",
   "mimetype": "text/x-python",
   "name": "python",
   "nbconvert_exporter": "python",
   "pygments_lexer": "ipython3",
   "version": "3.7.1"
  }
 },
 "nbformat": 4,
 "nbformat_minor": 2
}
